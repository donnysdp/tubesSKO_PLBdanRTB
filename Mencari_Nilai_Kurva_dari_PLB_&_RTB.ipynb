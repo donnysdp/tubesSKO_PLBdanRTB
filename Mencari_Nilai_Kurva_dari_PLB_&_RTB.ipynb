{
  "nbformat": 4,
  "nbformat_minor": 0,
  "metadata": {
    "colab": {
      "name": "Mencari Nilai Kurva dari PLB & RTB.ipynb",
      "provenance": [],
      "collapsed_sections": [],
      "authorship_tag": "ABX9TyPXUPwVwXQTpnmRRKBuqIf6"
    },
    "kernelspec": {
      "name": "python3",
      "display_name": "Python 3"
    }
  },
  "cells": [
    {
      "cell_type": "code",
      "metadata": {
        "id": "Q24XbpmInst6"
      },
      "source": [
        "from math import log10, sqrt\n",
        "import numpy as np\n",
        "import matplotlib.pyplot as plt"
      ],
      "execution_count": null,
      "outputs": []
    },
    {
      "cell_type": "code",
      "metadata": {
        "id": "cMt48FkVn1ze"
      },
      "source": [
        "#-- Kabel FO G.655\n",
        "L=np.arange(1,13.5,1) #km\n",
        "haspel = 2 #km\n",
        "dispersi_material = 17e-12 #s/km.nm\n",
        "alpha_f = 0.2 #dB/km"
      ],
      "execution_count": null,
      "outputs": []
    },
    {
      "cell_type": "code",
      "metadata": {
        "id": "sTgatgynoXA8"
      },
      "source": [
        "#-- Pengirim\n",
        "ptx = 8 #mW\n",
        "ptx_db = 10*log10(ptx)\n",
        "spektral = 0.1 #nm\n",
        "t_tx = 35e-12 #s\n",
        "mod_NRZ = 0.7 #NRZ\n",
        "mod_RZ = 0.35 #RZ\n",
        "bitrate = 2.5e9 #2.5 Gbps\n",
        "tb = 1/bitrate #timebit(1 bit butuh berapa waktu utk dikirimkan)"
      ],
      "execution_count": null,
      "outputs": []
    },
    {
      "cell_type": "code",
      "metadata": {
        "id": "m4FATnH4pOYs"
      },
      "source": [
        "#-- Pengirim\n",
        "sensitivitas = -27 #dBm\n",
        "t_rx = 35e-12 #s"
      ],
      "execution_count": null,
      "outputs": []
    },
    {
      "cell_type": "code",
      "metadata": {
        "id": "Yd1PQ1cppauM"
      },
      "source": [
        "#-- Redaman Kanal\n",
        "n_c = 2 #jumlah redaman\n",
        "alpha_c = 0.2 #tiap ada titik konektor meredam 0.1 db/detik\n",
        "n_splice = (L/haspel)-1\n",
        "alpha_splice = 0.1 #db/titik redaman per titik\n",
        "ms = 6 #db >> biaya tak terduga pada redaman(db) biasanya 2x lipat"
      ],
      "execution_count": null,
      "outputs": []
    },
    {
      "cell_type": "code",
      "metadata": {
        "id": "jgpyiLZhpeCU"
      },
      "source": [
        "alpha_t = n_c*alpha_c+n_splice*alpha_splice+L*alpha_f+ms\n",
        "#print(\"Redaman Kabel : \",alpha_t,\"dB\")"
      ],
      "execution_count": null,
      "outputs": []
    },
    {
      "cell_type": "code",
      "metadata": {
        "id": "NE8AogfWqcsN"
      },
      "source": [
        "prx = ptx_db - alpha_t"
      ],
      "execution_count": null,
      "outputs": []
    },
    {
      "cell_type": "code",
      "metadata": {
        "id": "6THZ8XCcql1E",
        "colab": {
          "base_uri": "https://localhost:8080/"
        },
        "outputId": "3cd41d30-fe5e-4cbf-8a85-2cfa9ad24997"
      },
      "source": [
        "prx"
      ],
      "execution_count": null,
      "outputs": [
        {
          "output_type": "execute_result",
          "data": {
            "text/plain": [
              "array([ 2.48089987,  2.23089987,  1.98089987,  1.73089987,  1.48089987,\n",
              "        1.23089987,  0.98089987,  0.73089987,  0.48089987,  0.23089987,\n",
              "       -0.01910013, -0.26910013, -0.51910013])"
            ]
          },
          "metadata": {
            "tags": []
          },
          "execution_count": 30
        }
      ]
    },
    {
      "cell_type": "code",
      "metadata": {
        "id": "G1-JSbUrqmbs",
        "colab": {
          "base_uri": "https://localhost:8080/"
        },
        "outputId": "102a9eb0-6c98-44a5-93bc-cc6a5e89cc67"
      },
      "source": [
        "t_mat = dispersi_material*L*spektral\n",
        "t_wg = 0 #diabaikan\n",
        "t_mod = 0 #dianggap menggunakan kabel SM\n",
        "\n",
        "t_sys = np.sqrt(t_tx**2+\n",
        "             t_mat**2+\n",
        "             t_mod**2+\n",
        "             t_wg**2+\n",
        "             t_rx**2)\n",
        "t_sys"
      ],
      "execution_count": null,
      "outputs": [
        {
          "output_type": "execute_result",
          "data": {
            "text/plain": [
              "array([4.95266595e-11, 4.96141109e-11, 4.97595217e-11, 4.99623859e-11,\n",
              "       5.02220071e-11, 5.05375108e-11, 5.09078579e-11, 5.13318615e-11,\n",
              "       5.18082040e-11, 5.23354564e-11, 5.29120969e-11, 5.35365296e-11,\n",
              "       5.42071029e-11])"
            ]
          },
          "metadata": {
            "tags": []
          },
          "execution_count": 31
        }
      ]
    },
    {
      "cell_type": "code",
      "metadata": {
        "id": "aEsfEg6trbf8",
        "colab": {
          "base_uri": "https://localhost:8080/",
          "height": 312
        },
        "outputId": "6463e442-9439-4b16-9d21-098d1fa10bb0"
      },
      "source": [
        "plt.plot(L,prx)\n",
        "plt.xlabel(\"Jarak (km)\")\n",
        "plt.ylabel(\"Daya Terima (dBm)\")\n",
        "plt.title(\"Kurva Power Link Budget\")"
      ],
      "execution_count": null,
      "outputs": [
        {
          "output_type": "execute_result",
          "data": {
            "text/plain": [
              "Text(0.5, 1.0, 'Kurva Power Link Budget')"
            ]
          },
          "metadata": {
            "tags": []
          },
          "execution_count": 32
        },
        {
          "output_type": "display_data",
          "data": {
            "image/png": "[encoded data removed]",
            "text/plain": [
              "<Figure size 432x288 with 1 Axes>"
            ]
          },
          "metadata": {
            "tags": [],
            "needs_background": "light"
          }
        }
      ]
    },
    {
      "cell_type": "code",
      "metadata": {
        "id": "hMlLLus4tOM2",
        "colab": {
          "base_uri": "https://localhost:8080/",
          "height": 312
        },
        "outputId": "e5014130-b123-4910-b7ff-4673b9f61940"
      },
      "source": [
        "plt.plot(L,t_sys)\n",
        "plt.xlabel(\"Jarak (km)\")\n",
        "plt.ylabel(\"Dispersi System (s)\")\n",
        "plt.title(\"Kurva Rise Time Budget\")"
      ],
      "execution_count": null,
      "outputs": [
        {
          "output_type": "execute_result",
          "data": {
            "text/plain": [
              "Text(0.5, 1.0, 'Kurva Rise Time Budget')"
            ]
          },
          "metadata": {
            "tags": []
          },
          "execution_count": 33
        },
        {
          "output_type": "display_data",
          "data": {
            "image/png": "[encoded data removed]",
            "text/plain": [
              "<Figure size 432x288 with 1 Axes>"
            ]
          },
          "metadata": {
            "tags": [],
            "needs_background": "light"
          }
        }
      ]
    }
  ]
}