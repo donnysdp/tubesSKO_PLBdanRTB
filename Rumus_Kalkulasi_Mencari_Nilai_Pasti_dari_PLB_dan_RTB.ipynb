{
  "nbformat": 4,
  "nbformat_minor": 0,
  "metadata": {
    "colab": {
      "name": "Rumus Kalkulasi Mencari Nilai Pasti dari PLB dan RTB.ipynb",
      "provenance": [],
      "collapsed_sections": [],
      "authorship_tag": "ABX9TyMnPaihcL7so0y0rxU2RlQ8"
    },
    "kernelspec": {
      "name": "python3",
      "display_name": "Python 3"
    }
  },
  "cells": [
    {
      "cell_type": "markdown",
      "metadata": {
        "id": "84ir17_A3JiH"
      },
      "source": [
        "**TUBES SKO - DONNY, DZULFIKAR, HARIS**"
      ]
    },
    {
      "cell_type": "code",
      "metadata": {
        "id": "POoWdmBXOv5m",
        "colab": {
          "base_uri": "https://localhost:8080/"
        },
        "outputId": "4ee1366a-0936-40c8-ee5f-c65e1f424e97"
      },
      "source": [
        "import numpy as np\n",
        "import matplotlib.pyplot as plt\n",
        "#perhitungan POWER LINK BUDGET dan RISE TIME BUDGET pada kabel Single Mode (SM G.655)\n",
        "\n",
        "#inisialisasi data utk perhitungan PLB dengan jarak STO Lembong - STO Ujung Berung, Bandung (12.5 km)\n",
        "# ============================================================================= #\n",
        "L   = 12.5                   #jarak/panjang link (L)\n",
        "l   = 2                      #panjang kabel (km/haspel)\n",
        "Ms  = 6                      #margin system (dB)\n",
        "af  = 0.35                   #redaman fiber (dB)\n",
        "ac  = 0.2                    #redaman konektor (dB/konektor)\n",
        "asp = 0.1                    #redaman splicing (dB/splice)    \n",
        "sen = -27                    #sensitivitas PD (dBm)\n",
        "# ============================================================================= #\n",
        "\n",
        "\n",
        "#perhitungan merubah DAYA KIRIM LASER (mW) ke bentuk (dBm)\n",
        "# ============================================================================= #\n",
        "Ps=8                       #Daya kirim laser (mW)\n",
        "Ptx=10*np.log10(Ps)        #Daya kirim laser (dBm)\n",
        "# ============================================================================= #\n",
        "\n",
        "\n",
        "#perhitungan POWER LINK BUDGET\n",
        "# ============================================================================= #\n",
        "#rumus perhitungan BANYAK SPLICE\n",
        "n = (L/l)-1\n",
        "# = 5,25 #jumlah splicing\n",
        "\n",
        "#rumus perhitungan REDAMAN TOTAL (dB)\n",
        "AT = 2*ac+n*asp+af*L+Ms\n",
        "#  = 11.3 #dB\n",
        "\n",
        "#rumus perhitungan DAYA TERIMA (dBm)\n",
        "Prx = Ptx - AT\n",
        "#   = -2,269100130080565 #dBm\n",
        "# ============================================================================= #\n",
        "\n",
        "\n",
        "#cek apakah POWER LINK BUDGET memenuhi/tidak memenuhi\n",
        "# ============================================================================= #\n",
        "if Prx>=sen:\n",
        "    print ('PLB terpenuhi! Congrats euy!')\n",
        "else :\n",
        "    print ('PLB tidak terpenuhi, Coba rancang ulang tubesnya')\n",
        "# ============================================================================= #\n",
        "\n",
        "\n",
        "\n",
        "\n",
        "\n",
        "#inisialisasi data utk perhitungan RTB dengan jarak STO Lembong - STO Ujung Berung, Bandung (12.5 km)\n",
        "# ============================================================================= #\n",
        "Dmat  = 0.017                   #dispersi material (ns/nm.km bila LS laser diabaikan)\n",
        "Dwg   = 0                       #dispersi waveguide (ns/nm.km)\n",
        "dho   = 0.1                     #lebar spektral (nm)\n",
        "Br    = 2.5e9                   #bitrate (bps)\n",
        "ttx   = 0.035                   #rise time Tx (ns)\n",
        "trx   = 0.035                   #rise time Rx (ns)\n",
        "# ============================================================================= #\n",
        "\n",
        "\n",
        "#perhitungan RISE TIME BUDGET\n",
        "# ============================================================================= #\n",
        "tmat  = Dmat*L*dho              #rise time material (ns)\n",
        "twg   = Dwg*L*dho\n",
        "# ============================================================================= #\n",
        "\n",
        "\n",
        "#perhitungan RISE TIME SYSTEM\n",
        "# ============================================================================= #\n",
        "tsys    = np.sqrt((ttx**2)+(trx**2)+(tmat**2)+(twg**2))\n",
        "Tb      = (1/Br)\n",
        "tranNRZ = 0.7*Tb*1e9\n",
        "tranRZ  = 0.35*Tb*1e9\n",
        "# ============================================================================= #\n",
        "\n",
        "\n",
        "#cek apakah RISE TIME BUDGET memenuhi/tidak memenuhi\n",
        "# ============================================================================= #\n",
        "if tsys<= (tranNRZ):\n",
        "    print ('RTB NRZ terpenuhi! Congrats euy!')\n",
        "else :\n",
        "    print ('RTB NRZ tidak terpenuhi, Coba rancang ulang tubesnya')\n",
        "    \n",
        "if tsys<= (tranRZ):\n",
        "    print ('RTB RZ terpenuhi! Congrats euy!')\n",
        "else :\n",
        "    print ('RTB RZ tidak terpenuhi, Coba rancang ulang tubesnya')\n",
        "# ============================================================================= #\n",
        "\n",
        "# ============================================================================= #\n",
        "\n",
        "#Prx array()\n",
        "#plt.plot(L, tsys)\n",
        "#plt.xlabel(\"Jarak (km)\")\n",
        "#plt.ylabel(\"Daya Terima (dBm)\")\n",
        "#plt.title(\"Kurva Link Power Budget\")\n",
        "#plt.show()\n",
        "# ============================================================================= #"
      ],
      "execution_count": 2,
      "outputs": [
        {
          "output_type": "stream",
          "name": "stdout",
          "text": [
            "PLB terpenuhi! Congrats euy!\n",
            "RTB NRZ terpenuhi! Congrats euy!\n",
            "RTB RZ terpenuhi! Congrats euy!\n"
          ]
        }
      ]
    },
    {
      "cell_type": "code",
      "metadata": {
        "id": "4Ua6mPynKj-c"
      },
      "source": [
        ""
      ],
      "execution_count": null,
      "outputs": []
    }
  ]
}
